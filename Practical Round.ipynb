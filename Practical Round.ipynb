{
 "cells": [
  {
   "cell_type": "markdown",
   "id": "19796567",
   "metadata": {},
   "source": [
    "## Problem Statment"
   ]
  },
  {
   "cell_type": "code",
   "execution_count": 2,
   "id": "4f8867b3",
   "metadata": {},
   "outputs": [],
   "source": [
    "data = {\n",
    "    \"Subject\": [\"Important Message\", \"Win a Free Vacation\", \"Urgent: Invoice Payment\", \"Meeting Reminder\", \"Get Rich Quick\", \"Thank You for Your Purchase\"],\n",
    "    \"Email_Text\": [\n",
    "        \"Dear User, your account has been locked for security reasons. Please click the link to unlock it.\",\n",
    "        \"Congratulations! You've won a free vacation to a tropical paradise. Claim your prize now!\",\n",
    "        \"Please find attached the invoice for your recent purchase. Kindly make the payment at your earliest convenience.\",\n",
    "        \"Hi, this is a reminder for our meeting tomorrow at 2 PM. Please be punctual.\",\n",
    "        \"Make $10,000 in a week with our secret method! Act now!\",\n",
    "        \"Thank you for shopping with us. Here's a 10% discount on your next purchase.\"\n",
    "    ],\n",
    "    \"Spam\": [1, 1, 0, 0, 1, 0]\n",
    "}"
   ]
  },
  {
   "cell_type": "code",
   "execution_count": null,
   "id": "05d89be2",
   "metadata": {},
   "outputs": [],
   "source": [
    "1. convert above dict to dataframe\n",
    "2. pre-process the dataframe\n",
    "3. write a model for this dataset\n",
    "3. evaluate the model "
   ]
  },
  {
   "cell_type": "markdown",
   "id": "90ed4be0",
   "metadata": {},
   "source": [
    "# Data Gathering"
   ]
  },
  {
   "cell_type": "code",
   "execution_count": 52,
   "id": "40a96574",
   "metadata": {},
   "outputs": [
    {
     "data": {
      "text/plain": [
       "{'Subject': ['Important Message',\n",
       "  'Win a Free Vacation',\n",
       "  'Urgent: Invoice Payment',\n",
       "  'Meeting Reminder',\n",
       "  'Get Rich Quick',\n",
       "  'Thank You for Your Purchase'],\n",
       " 'Email_Text': ['Dear User, your account has been locked for security reasons. Please click the link to unlock it.',\n",
       "  \"Congratulations! You've won a free vacation to a tropical paradise. Claim your prize now!\",\n",
       "  'Please find attached the invoice for your recent purchase. Kindly make the payment at your earliest convenience.',\n",
       "  'Hi, this is a reminder for our meeting tomorrow at 2 PM. Please be punctual.',\n",
       "  'Make $10,000 in a week with our secret method! Act now!',\n",
       "  \"Thank you for shopping with us. Here's a 10% discount on your next purchase.\"],\n",
       " 'Spam': [1, 1, 0, 0, 1, 0]}"
      ]
     },
     "execution_count": 52,
     "metadata": {},
     "output_type": "execute_result"
    }
   ],
   "source": [
    "data"
   ]
  },
  {
   "cell_type": "markdown",
   "id": "02679aae",
   "metadata": {},
   "source": [
    "# Importing Liberaries"
   ]
  },
  {
   "cell_type": "code",
   "execution_count": 67,
   "id": "c76d4f6c",
   "metadata": {},
   "outputs": [],
   "source": [
    "import pandas as pd\n",
    "from sklearn.feature_extraction.text import TfidfVectorizer\n",
    "from string import punctuation\n",
    "from nltk.stem import lancaster\n",
    "from nltk.tokenize import word_tokenize\n",
    "from sklearn.naive_bayes import BernoulliNB\n",
    "from sklearn.metrics import precision_score, accuracy_score, confusion_matrix, classification_report"
   ]
  },
  {
   "cell_type": "markdown",
   "id": "581dab47",
   "metadata": {},
   "source": [
    "# Exploratory data analysis"
   ]
  },
  {
   "cell_type": "code",
   "execution_count": 53,
   "id": "e704061d",
   "metadata": {},
   "outputs": [
    {
     "data": {
      "text/html": [
       "<div>\n",
       "<style scoped>\n",
       "    .dataframe tbody tr th:only-of-type {\n",
       "        vertical-align: middle;\n",
       "    }\n",
       "\n",
       "    .dataframe tbody tr th {\n",
       "        vertical-align: top;\n",
       "    }\n",
       "\n",
       "    .dataframe thead th {\n",
       "        text-align: right;\n",
       "    }\n",
       "</style>\n",
       "<table border=\"1\" class=\"dataframe\">\n",
       "  <thead>\n",
       "    <tr style=\"text-align: right;\">\n",
       "      <th></th>\n",
       "      <th>Subject</th>\n",
       "      <th>Email_Text</th>\n",
       "      <th>Spam</th>\n",
       "    </tr>\n",
       "  </thead>\n",
       "  <tbody>\n",
       "    <tr>\n",
       "      <th>0</th>\n",
       "      <td>Important Message</td>\n",
       "      <td>Dear User, your account has been locked for se...</td>\n",
       "      <td>1</td>\n",
       "    </tr>\n",
       "    <tr>\n",
       "      <th>1</th>\n",
       "      <td>Win a Free Vacation</td>\n",
       "      <td>Congratulations! You've won a free vacation to...</td>\n",
       "      <td>1</td>\n",
       "    </tr>\n",
       "    <tr>\n",
       "      <th>2</th>\n",
       "      <td>Urgent: Invoice Payment</td>\n",
       "      <td>Please find attached the invoice for your rece...</td>\n",
       "      <td>0</td>\n",
       "    </tr>\n",
       "    <tr>\n",
       "      <th>3</th>\n",
       "      <td>Meeting Reminder</td>\n",
       "      <td>Hi, this is a reminder for our meeting tomorro...</td>\n",
       "      <td>0</td>\n",
       "    </tr>\n",
       "    <tr>\n",
       "      <th>4</th>\n",
       "      <td>Get Rich Quick</td>\n",
       "      <td>Make $10,000 in a week with our secret method!...</td>\n",
       "      <td>1</td>\n",
       "    </tr>\n",
       "    <tr>\n",
       "      <th>5</th>\n",
       "      <td>Thank You for Your Purchase</td>\n",
       "      <td>Thank you for shopping with us. Here's a 10% d...</td>\n",
       "      <td>0</td>\n",
       "    </tr>\n",
       "  </tbody>\n",
       "</table>\n",
       "</div>"
      ],
      "text/plain": [
       "                       Subject  \\\n",
       "0            Important Message   \n",
       "1          Win a Free Vacation   \n",
       "2      Urgent: Invoice Payment   \n",
       "3             Meeting Reminder   \n",
       "4               Get Rich Quick   \n",
       "5  Thank You for Your Purchase   \n",
       "\n",
       "                                          Email_Text  Spam  \n",
       "0  Dear User, your account has been locked for se...     1  \n",
       "1  Congratulations! You've won a free vacation to...     1  \n",
       "2  Please find attached the invoice for your rece...     0  \n",
       "3  Hi, this is a reminder for our meeting tomorro...     0  \n",
       "4  Make $10,000 in a week with our secret method!...     1  \n",
       "5  Thank you for shopping with us. Here's a 10% d...     0  "
      ]
     },
     "execution_count": 53,
     "metadata": {},
     "output_type": "execute_result"
    }
   ],
   "source": [
    "df=pd.DataFrame(data)\n",
    "df"
   ]
  },
  {
   "cell_type": "markdown",
   "id": "f5cd78e0",
   "metadata": {},
   "source": [
    "## data Preprocessing"
   ]
  },
  {
   "cell_type": "code",
   "execution_count": 49,
   "id": "dfadda02",
   "metadata": {},
   "outputs": [],
   "source": [
    "\n",
    "def normalize(data):\n",
    "    data=data.lower()\n",
    "    return data\n",
    "def tokenization(data):\n",
    "    words=word_tokenize(data)\n",
    "    return words\n",
    "def remove_comma_and_doller(data):\n",
    "    l=[]\n",
    "    for i in data:\n",
    "        if i==\",\"or i==\"$\" or i==\"%\":\n",
    "            pass\n",
    "        else:\n",
    "            l.append(i)\n",
    "    data=\"\".join(l)\n",
    "    return data\n",
    "    \n",
    "    "
   ]
  },
  {
   "cell_type": "code",
   "execution_count": 69,
   "id": "4f85d6da",
   "metadata": {},
   "outputs": [
    {
     "data": {
      "text/plain": [
       "0    dear user your account has been locked for sec...\n",
       "1    congratulations ! you 've won a free vacation ...\n",
       "2    please find attached the invoice for your rece...\n",
       "3    hi this is a reminder for our meeting tomorrow...\n",
       "4    make 10000 in a week with our secret method ! ...\n",
       "5    thank you for shopping with us . here 's a 10 ...\n",
       "Name: Email_Text, dtype: object"
      ]
     },
     "execution_count": 69,
     "metadata": {},
     "output_type": "execute_result"
    }
   ],
   "source": [
    "x=df[\"Email_Text\"]\n",
    "x"
   ]
  },
  {
   "cell_type": "markdown",
   "id": "245768f3",
   "metadata": {},
   "source": [
    "## Word Embedding"
   ]
  },
  {
   "cell_type": "code",
   "execution_count": 70,
   "id": "dd1c6bf3",
   "metadata": {},
   "outputs": [
    {
     "data": {
      "text/plain": [
       "<6x64 sparse matrix of type '<class 'numpy.float64'>'\n",
       "\twith 81 stored elements in Compressed Sparse Row format>"
      ]
     },
     "execution_count": 70,
     "metadata": {},
     "output_type": "execute_result"
    }
   ],
   "source": [
    "model=TfidfVectorizer()\n",
    "vectorized_data=model.fit_transform(x)\n",
    "vectorized_data."
   ]
  },
  {
   "cell_type": "code",
   "execution_count": 73,
   "id": "d02d9f12",
   "metadata": {},
   "outputs": [
    {
     "data": {
      "text/plain": [
       "array([[0.        , 0.        , 0.26235917, 0.        , 0.        ,\n",
       "        0.        , 0.        , 0.26235917, 0.        , 0.26235917,\n",
       "        0.        , 0.        , 0.26235917, 0.        , 0.        ,\n",
       "        0.        , 0.15564698, 0.        , 0.26235917, 0.        ,\n",
       "        0.        , 0.        , 0.        , 0.        , 0.26235917,\n",
       "        0.        , 0.26235917, 0.26235917, 0.        , 0.        ,\n",
       "        0.        , 0.        , 0.        , 0.        , 0.        ,\n",
       "        0.        , 0.        , 0.18163451, 0.        , 0.        ,\n",
       "        0.        , 0.        , 0.26235917, 0.        , 0.        ,\n",
       "        0.        , 0.26235917, 0.        , 0.        , 0.21513827,\n",
       "        0.        , 0.21513827, 0.        , 0.        , 0.26235917,\n",
       "        0.        , 0.26235917, 0.        , 0.        , 0.        ,\n",
       "        0.        , 0.        , 0.        , 0.15564698],\n",
       "       [0.        , 0.        , 0.        , 0.        , 0.        ,\n",
       "        0.        , 0.        , 0.        , 0.296575  , 0.        ,\n",
       "        0.296575  , 0.        , 0.        , 0.        , 0.        ,\n",
       "        0.        , 0.        , 0.296575  , 0.        , 0.        ,\n",
       "        0.        , 0.        , 0.        , 0.        , 0.        ,\n",
       "        0.        , 0.        , 0.        , 0.        , 0.        ,\n",
       "        0.        , 0.        , 0.24319574, 0.        , 0.        ,\n",
       "        0.296575  , 0.        , 0.        , 0.        , 0.296575  ,\n",
       "        0.        , 0.        , 0.        , 0.        , 0.        ,\n",
       "        0.        , 0.        , 0.        , 0.        , 0.        ,\n",
       "        0.        , 0.24319574, 0.        , 0.296575  , 0.        ,\n",
       "        0.        , 0.        , 0.296575  , 0.296575  , 0.        ,\n",
       "        0.        , 0.296575  , 0.24319574, 0.17594583],\n",
       "       [0.        , 0.        , 0.        , 0.        , 0.21210862,\n",
       "        0.25866454, 0.        , 0.        , 0.        , 0.        ,\n",
       "        0.        , 0.25866454, 0.        , 0.        , 0.25866454,\n",
       "        0.25866454, 0.1534551 , 0.        , 0.        , 0.        ,\n",
       "        0.        , 0.        , 0.25866454, 0.        , 0.        ,\n",
       "        0.25866454, 0.        , 0.        , 0.21210862, 0.        ,\n",
       "        0.        , 0.        , 0.        , 0.        , 0.        ,\n",
       "        0.        , 0.25866454, 0.17907667, 0.        , 0.        ,\n",
       "        0.        , 0.21210862, 0.        , 0.25866454, 0.        ,\n",
       "        0.        , 0.        , 0.        , 0.        , 0.42421724,\n",
       "        0.        , 0.        , 0.        , 0.        , 0.        ,\n",
       "        0.        , 0.        , 0.        , 0.        , 0.        ,\n",
       "        0.        , 0.        , 0.        , 0.3069102 ],\n",
       "       [0.        , 0.        , 0.        , 0.        , 0.24528799,\n",
       "        0.        , 0.29912648, 0.        , 0.        , 0.        ,\n",
       "        0.        , 0.        , 0.        , 0.        , 0.        ,\n",
       "        0.        , 0.17745952, 0.        , 0.        , 0.        ,\n",
       "        0.29912648, 0.        , 0.        , 0.29912648, 0.        ,\n",
       "        0.        , 0.        , 0.        , 0.        , 0.29912648,\n",
       "        0.        , 0.        , 0.        , 0.        , 0.24528799,\n",
       "        0.        , 0.        , 0.20708898, 0.29912648, 0.        ,\n",
       "        0.29912648, 0.        , 0.        , 0.        , 0.29912648,\n",
       "        0.        , 0.        , 0.        , 0.        , 0.        ,\n",
       "        0.29912648, 0.        , 0.29912648, 0.        , 0.        ,\n",
       "        0.        , 0.        , 0.        , 0.        , 0.        ,\n",
       "        0.        , 0.        , 0.        , 0.        ],\n",
       "       [0.        , 0.33923274, 0.        , 0.33923274, 0.        ,\n",
       "        0.        , 0.        , 0.        , 0.        , 0.        ,\n",
       "        0.        , 0.        , 0.        , 0.        , 0.        ,\n",
       "        0.        , 0.        , 0.        , 0.        , 0.        ,\n",
       "        0.        , 0.33923274, 0.        , 0.        , 0.        ,\n",
       "        0.        , 0.        , 0.        , 0.2781757 , 0.        ,\n",
       "        0.33923274, 0.        , 0.2781757 , 0.        , 0.2781757 ,\n",
       "        0.        , 0.        , 0.        , 0.        , 0.        ,\n",
       "        0.        , 0.        , 0.        , 0.        , 0.        ,\n",
       "        0.33923274, 0.        , 0.        , 0.        , 0.        ,\n",
       "        0.        , 0.        , 0.        , 0.        , 0.        ,\n",
       "        0.        , 0.        , 0.        , 0.        , 0.33923274,\n",
       "        0.2781757 , 0.        , 0.        , 0.        ],\n",
       "       [0.30540676, 0.        , 0.        , 0.        , 0.        ,\n",
       "        0.        , 0.        , 0.        , 0.        , 0.        ,\n",
       "        0.        , 0.        , 0.        , 0.30540676, 0.        ,\n",
       "        0.        , 0.18118535, 0.        , 0.        , 0.30540676,\n",
       "        0.        , 0.        , 0.        , 0.        , 0.        ,\n",
       "        0.        , 0.        , 0.        , 0.        , 0.        ,\n",
       "        0.        , 0.30540676, 0.        , 0.30540676, 0.        ,\n",
       "        0.        , 0.        , 0.        , 0.        , 0.        ,\n",
       "        0.        , 0.25043791, 0.        , 0.        , 0.        ,\n",
       "        0.        , 0.        , 0.30540676, 0.30540676, 0.        ,\n",
       "        0.        , 0.        , 0.        , 0.        , 0.        ,\n",
       "        0.30540676, 0.        , 0.        , 0.        , 0.        ,\n",
       "        0.25043791, 0.        , 0.25043791, 0.18118535]])"
      ]
     },
     "execution_count": 73,
     "metadata": {},
     "output_type": "execute_result"
    }
   ],
   "source": [
    "vectorized_data.A"
   ]
  },
  {
   "cell_type": "code",
   "execution_count": 80,
   "id": "d16c54c0",
   "metadata": {},
   "outputs": [
    {
     "data": {
      "text/plain": [
       "(6, 64)"
      ]
     },
     "execution_count": 80,
     "metadata": {},
     "output_type": "execute_result"
    }
   ],
   "source": [
    "vectorized_data.A.shape"
   ]
  },
  {
   "cell_type": "code",
   "execution_count": 61,
   "id": "e2f6beb2",
   "metadata": {},
   "outputs": [],
   "source": [
    "def remove_list(data):\n",
    "    data=\" \".join(data)\n",
    "    return data"
   ]
  },
  {
   "cell_type": "code",
   "execution_count": 63,
   "id": "e7a67220",
   "metadata": {},
   "outputs": [],
   "source": [
    "df[\"Email_Text\"]=df[\"Email_Text\"].apply(remove_list)"
   ]
  },
  {
   "cell_type": "code",
   "execution_count": 54,
   "id": "63f9b48f",
   "metadata": {},
   "outputs": [],
   "source": [
    "df[\"Email_Text\"]=df[\"Email_Text\"].apply(remove_comma_and_doller)\n",
    "df[\"Email_Text\"]=df[\"Email_Text\"].apply(normalize)\n",
    "df[\"Email_Text\"]=df[\"Email_Text\"].apply(tokenization)"
   ]
  },
  {
   "cell_type": "code",
   "execution_count": 74,
   "id": "62972199",
   "metadata": {},
   "outputs": [
    {
     "data": {
      "text/plain": [
       "(6, 64)"
      ]
     },
     "execution_count": 74,
     "metadata": {},
     "output_type": "execute_result"
    }
   ],
   "source": [
    "vectorized_data.A.shape"
   ]
  },
  {
   "cell_type": "markdown",
   "id": "587b0e5a",
   "metadata": {},
   "source": [
    "## model training "
   ]
  },
  {
   "cell_type": "code",
   "execution_count": 78,
   "id": "89f03221",
   "metadata": {},
   "outputs": [],
   "source": [
    "x=vectorized_data.A\n",
    "y=df[\"Spam\"]"
   ]
  },
  {
   "cell_type": "code",
   "execution_count": 82,
   "id": "32bbe441",
   "metadata": {},
   "outputs": [
    {
     "data": {
      "text/html": [
       "<style>#sk-container-id-1 {color: black;}#sk-container-id-1 pre{padding: 0;}#sk-container-id-1 div.sk-toggleable {background-color: white;}#sk-container-id-1 label.sk-toggleable__label {cursor: pointer;display: block;width: 100%;margin-bottom: 0;padding: 0.3em;box-sizing: border-box;text-align: center;}#sk-container-id-1 label.sk-toggleable__label-arrow:before {content: \"▸\";float: left;margin-right: 0.25em;color: #696969;}#sk-container-id-1 label.sk-toggleable__label-arrow:hover:before {color: black;}#sk-container-id-1 div.sk-estimator:hover label.sk-toggleable__label-arrow:before {color: black;}#sk-container-id-1 div.sk-toggleable__content {max-height: 0;max-width: 0;overflow: hidden;text-align: left;background-color: #f0f8ff;}#sk-container-id-1 div.sk-toggleable__content pre {margin: 0.2em;color: black;border-radius: 0.25em;background-color: #f0f8ff;}#sk-container-id-1 input.sk-toggleable__control:checked~div.sk-toggleable__content {max-height: 200px;max-width: 100%;overflow: auto;}#sk-container-id-1 input.sk-toggleable__control:checked~label.sk-toggleable__label-arrow:before {content: \"▾\";}#sk-container-id-1 div.sk-estimator input.sk-toggleable__control:checked~label.sk-toggleable__label {background-color: #d4ebff;}#sk-container-id-1 div.sk-label input.sk-toggleable__control:checked~label.sk-toggleable__label {background-color: #d4ebff;}#sk-container-id-1 input.sk-hidden--visually {border: 0;clip: rect(1px 1px 1px 1px);clip: rect(1px, 1px, 1px, 1px);height: 1px;margin: -1px;overflow: hidden;padding: 0;position: absolute;width: 1px;}#sk-container-id-1 div.sk-estimator {font-family: monospace;background-color: #f0f8ff;border: 1px dotted black;border-radius: 0.25em;box-sizing: border-box;margin-bottom: 0.5em;}#sk-container-id-1 div.sk-estimator:hover {background-color: #d4ebff;}#sk-container-id-1 div.sk-parallel-item::after {content: \"\";width: 100%;border-bottom: 1px solid gray;flex-grow: 1;}#sk-container-id-1 div.sk-label:hover label.sk-toggleable__label {background-color: #d4ebff;}#sk-container-id-1 div.sk-serial::before {content: \"\";position: absolute;border-left: 1px solid gray;box-sizing: border-box;top: 0;bottom: 0;left: 50%;z-index: 0;}#sk-container-id-1 div.sk-serial {display: flex;flex-direction: column;align-items: center;background-color: white;padding-right: 0.2em;padding-left: 0.2em;position: relative;}#sk-container-id-1 div.sk-item {position: relative;z-index: 1;}#sk-container-id-1 div.sk-parallel {display: flex;align-items: stretch;justify-content: center;background-color: white;position: relative;}#sk-container-id-1 div.sk-item::before, #sk-container-id-1 div.sk-parallel-item::before {content: \"\";position: absolute;border-left: 1px solid gray;box-sizing: border-box;top: 0;bottom: 0;left: 50%;z-index: -1;}#sk-container-id-1 div.sk-parallel-item {display: flex;flex-direction: column;z-index: 1;position: relative;background-color: white;}#sk-container-id-1 div.sk-parallel-item:first-child::after {align-self: flex-end;width: 50%;}#sk-container-id-1 div.sk-parallel-item:last-child::after {align-self: flex-start;width: 50%;}#sk-container-id-1 div.sk-parallel-item:only-child::after {width: 0;}#sk-container-id-1 div.sk-dashed-wrapped {border: 1px dashed gray;margin: 0 0.4em 0.5em 0.4em;box-sizing: border-box;padding-bottom: 0.4em;background-color: white;}#sk-container-id-1 div.sk-label label {font-family: monospace;font-weight: bold;display: inline-block;line-height: 1.2em;}#sk-container-id-1 div.sk-label-container {text-align: center;}#sk-container-id-1 div.sk-container {/* jupyter's `normalize.less` sets `[hidden] { display: none; }` but bootstrap.min.css set `[hidden] { display: none !important; }` so we also need the `!important` here to be able to override the default hidden behavior on the sphinx rendered scikit-learn.org. See: https://github.com/scikit-learn/scikit-learn/issues/21755 */display: inline-block !important;position: relative;}#sk-container-id-1 div.sk-text-repr-fallback {display: none;}</style><div id=\"sk-container-id-1\" class=\"sk-top-container\"><div class=\"sk-text-repr-fallback\"><pre>BernoulliNB()</pre><b>In a Jupyter environment, please rerun this cell to show the HTML representation or trust the notebook. <br />On GitHub, the HTML representation is unable to render, please try loading this page with nbviewer.org.</b></div><div class=\"sk-container\" hidden><div class=\"sk-item\"><div class=\"sk-estimator sk-toggleable\"><input class=\"sk-toggleable__control sk-hidden--visually\" id=\"sk-estimator-id-1\" type=\"checkbox\" checked><label for=\"sk-estimator-id-1\" class=\"sk-toggleable__label sk-toggleable__label-arrow\">BernoulliNB</label><div class=\"sk-toggleable__content\"><pre>BernoulliNB()</pre></div></div></div></div></div>"
      ],
      "text/plain": [
       "BernoulliNB()"
      ]
     },
     "execution_count": 82,
     "metadata": {},
     "output_type": "execute_result"
    }
   ],
   "source": [
    "model=BernoulliNB()\n",
    "model.fit(x,y)"
   ]
  },
  {
   "cell_type": "markdown",
   "id": "d5893a03",
   "metadata": {},
   "source": [
    "## Model Evalution"
   ]
  },
  {
   "cell_type": "code",
   "execution_count": 84,
   "id": "99091641",
   "metadata": {},
   "outputs": [],
   "source": [
    "# model evalution on training data\n",
    "y_pred=model.predict(x)\n",
    "precision=precision_score(y_pred,y)"
   ]
  },
  {
   "cell_type": "code",
   "execution_count": 87,
   "id": "1c4752ed",
   "metadata": {},
   "outputs": [
    {
     "name": "stdout",
     "output_type": "stream",
     "text": [
      "              precision    recall  f1-score   support\n",
      "\n",
      "           0       1.00      1.00      1.00         3\n",
      "           1       1.00      1.00      1.00         3\n",
      "\n",
      "    accuracy                           1.00         6\n",
      "   macro avg       1.00      1.00      1.00         6\n",
      "weighted avg       1.00      1.00      1.00         6\n",
      "\n"
     ]
    }
   ],
   "source": [
    "calsification_report=classification_report(y_pred,y)\n",
    "print(calsification_report)"
   ]
  },
  {
   "cell_type": "code",
   "execution_count": null,
   "id": "b8d6ad80",
   "metadata": {},
   "outputs": [],
   "source": []
  }
 ],
 "metadata": {
  "kernelspec": {
   "display_name": "Python 3 (ipykernel)",
   "language": "python",
   "name": "python3"
  },
  "language_info": {
   "codemirror_mode": {
    "name": "ipython",
    "version": 3
   },
   "file_extension": ".py",
   "mimetype": "text/x-python",
   "name": "python",
   "nbconvert_exporter": "python",
   "pygments_lexer": "ipython3",
   "version": "3.11.7"
  }
 },
 "nbformat": 4,
 "nbformat_minor": 5
}
